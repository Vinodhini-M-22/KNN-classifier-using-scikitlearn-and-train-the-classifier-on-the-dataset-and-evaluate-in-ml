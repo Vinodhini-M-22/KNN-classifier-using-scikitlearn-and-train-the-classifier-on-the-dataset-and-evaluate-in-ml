{
 "cells": [
  {
   "cell_type": "code",
   "execution_count": 12,
   "id": "78f0a3c0",
   "metadata": {},
   "outputs": [
    {
     "name": "stdout",
     "output_type": "stream",
     "text": [
      "accuracy on the test set:1.00\n",
      "enter exam score 1:99\n",
      "enter exam score 2:88\n",
      "based on the exam scores provided, the student is predicted to pass.\n"
     ]
    }
   ],
   "source": [
    "import numpy as np\n",
    "from sklearn.model_selection import train_test_split\n",
    "from sklearn.neighbors import KNeighborsClassifier\n",
    "from sklearn.metrics import accuracy_score\n",
    "\n",
    "X = np.array([[80,70],[95,90],[60,50],[45,30],[30,40],[85,95],[70,60],[50,55],[40,45],[60,70]])\n",
    "y=np.array([1,1,0,0,0,1,1,0,0,1])\n",
    "X_train, X_test, y_train, y_test = train_test_split(X, y, test_size=0.2, random_state=42)\n",
    "knn = KNeighborsClassifier(n_neighbors=3)\n",
    "\n",
    "knn.fit(X_train,y_train)\n",
    "\n",
    "y_pred = knn.predict(X_test)\n",
    "accuracy = accuracy_score(y_test,y_pred)\n",
    "print(\"accuracy on the test set:{:.2f}\".format(accuracy))\n",
    "\n",
    "exam_score1=float(input(\"enter exam score 1:\"))\n",
    "exam_score2=float(input(\"enter exam score 2:\"))\n",
    "\n",
    "user_input= np.array([[exam_score1,exam_score2]])\n",
    "\n",
    "predicted_outcome=knn.predict(user_input)\n",
    "\n",
    "if predicted_outcome[0] ==1:\n",
    "    print(\"based on the exam scores provided, the student is predicted to pass.\")\n",
    "else:\n",
    "    print(\"based on the exam scores provided, the student is predicted to fail:\")\n",
    "        "
   ]
  },
  {
   "cell_type": "code",
   "execution_count": null,
   "id": "dc8d58b1",
   "metadata": {},
   "outputs": [],
   "source": []
  },
  {
   "cell_type": "code",
   "execution_count": null,
   "id": "4fc3852e",
   "metadata": {},
   "outputs": [],
   "source": []
  },
  {
   "cell_type": "code",
   "execution_count": null,
   "id": "c3288f5e",
   "metadata": {},
   "outputs": [],
   "source": []
  }
 ],
 "metadata": {
  "kernelspec": {
   "display_name": "Python 3 (ipykernel)",
   "language": "python",
   "name": "python3"
  },
  "language_info": {
   "codemirror_mode": {
    "name": "ipython",
    "version": 3
   },
   "file_extension": ".py",
   "mimetype": "text/x-python",
   "name": "python",
   "nbconvert_exporter": "python",
   "pygments_lexer": "ipython3",
   "version": "3.11.5"
  }
 },
 "nbformat": 4,
 "nbformat_minor": 5
}
